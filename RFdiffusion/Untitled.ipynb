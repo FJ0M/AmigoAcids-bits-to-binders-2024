{
 "cells": [
  {
   "cell_type": "code",
   "execution_count": 1,
   "id": "d9b59d7f",
   "metadata": {},
   "outputs": [
    {
     "ename": "FileNotFoundError",
     "evalue": "[Errno 2] No such file or directory: 'input.pdb'",
     "output_type": "error",
     "traceback": [
      "\u001b[0;31m---------------------------------------------------------------------------\u001b[0m",
      "\u001b[0;31mFileNotFoundError\u001b[0m                         Traceback (most recent call last)",
      "Cell \u001b[0;32mIn[1], line 47\u001b[0m\n\u001b[1;32m     44\u001b[0m distance_threshold \u001b[38;5;241m=\u001b[39m \u001b[38;5;241m5.0\u001b[39m  \u001b[38;5;66;03m# Angstroms\u001b[39;00m\n\u001b[1;32m     46\u001b[0m \u001b[38;5;66;03m# Find nearby atoms\u001b[39;00m\n\u001b[0;32m---> 47\u001b[0m nearby_atoms \u001b[38;5;241m=\u001b[39m \u001b[43mfind_nearby_atoms_fast\u001b[49m\u001b[43m(\u001b[49m\u001b[43minput_pdb\u001b[49m\u001b[43m,\u001b[49m\u001b[43m \u001b[49m\u001b[43mrf_pdb\u001b[49m\u001b[43m,\u001b[49m\u001b[43m \u001b[49m\u001b[43mresidues_of_interest\u001b[49m\u001b[43m,\u001b[49m\u001b[43m \u001b[49m\u001b[43mdistance_threshold\u001b[49m\u001b[43m)\u001b[49m\n\u001b[1;32m     49\u001b[0m \u001b[38;5;66;03m# Output the results\u001b[39;00m\n\u001b[1;32m     50\u001b[0m \u001b[38;5;28;01mfor\u001b[39;00m atom1, atom2, distance \u001b[38;5;129;01min\u001b[39;00m nearby_atoms:\n",
      "Cell \u001b[0;32mIn[1], line 8\u001b[0m, in \u001b[0;36mfind_nearby_atoms_fast\u001b[0;34m(input_pdb, rf_pdb, residues_of_interest, distance_threshold)\u001b[0m\n\u001b[1;32m      5\u001b[0m \u001b[38;5;28;01mdef\u001b[39;00m \u001b[38;5;21mfind_nearby_atoms_fast\u001b[39m(input_pdb, rf_pdb, residues_of_interest, distance_threshold):\n\u001b[1;32m      6\u001b[0m     \u001b[38;5;66;03m# Parse the input PDB files\u001b[39;00m\n\u001b[1;32m      7\u001b[0m     parser \u001b[38;5;241m=\u001b[39m PDBParser(QUIET\u001b[38;5;241m=\u001b[39m\u001b[38;5;28;01mTrue\u001b[39;00m)\n\u001b[0;32m----> 8\u001b[0m     input_structure \u001b[38;5;241m=\u001b[39m \u001b[43mparser\u001b[49m\u001b[38;5;241;43m.\u001b[39;49m\u001b[43mget_structure\u001b[49m\u001b[43m(\u001b[49m\u001b[38;5;124;43m\"\u001b[39;49m\u001b[38;5;124;43minput\u001b[39;49m\u001b[38;5;124;43m\"\u001b[39;49m\u001b[43m,\u001b[49m\u001b[43m \u001b[49m\u001b[43minput_pdb\u001b[49m\u001b[43m)\u001b[49m\n\u001b[1;32m      9\u001b[0m     rf_structure \u001b[38;5;241m=\u001b[39m parser\u001b[38;5;241m.\u001b[39mget_structure(\u001b[38;5;124m\"\u001b[39m\u001b[38;5;124mrf\u001b[39m\u001b[38;5;124m\"\u001b[39m, rf_pdb)\n\u001b[1;32m     11\u001b[0m     \u001b[38;5;66;03m# Get coordinates of atoms from the specified residues in the input PDB\u001b[39;00m\n",
      "File \u001b[0;32m~/anaconda3/lib/python3.11/site-packages/Bio/PDB/PDBParser.py:96\u001b[0m, in \u001b[0;36mPDBParser.get_structure\u001b[0;34m(self, id, file)\u001b[0m\n\u001b[1;32m     93\u001b[0m \u001b[38;5;66;03m# Make a StructureBuilder instance (pass id of structure as parameter)\u001b[39;00m\n\u001b[1;32m     94\u001b[0m \u001b[38;5;28mself\u001b[39m\u001b[38;5;241m.\u001b[39mstructure_builder\u001b[38;5;241m.\u001b[39minit_structure(\u001b[38;5;28mid\u001b[39m)\n\u001b[0;32m---> 96\u001b[0m \u001b[43m\u001b[49m\u001b[38;5;28;43;01mwith\u001b[39;49;00m\u001b[43m \u001b[49m\u001b[43mas_handle\u001b[49m\u001b[43m(\u001b[49m\u001b[43mfile\u001b[49m\u001b[43m)\u001b[49m\u001b[43m \u001b[49m\u001b[38;5;28;43;01mas\u001b[39;49;00m\u001b[43m \u001b[49m\u001b[43mhandle\u001b[49m\u001b[43m:\u001b[49m\n\u001b[1;32m     97\u001b[0m \u001b[43m    \u001b[49m\u001b[43mlines\u001b[49m\u001b[43m \u001b[49m\u001b[38;5;241;43m=\u001b[39;49m\u001b[43m \u001b[49m\u001b[43mhandle\u001b[49m\u001b[38;5;241;43m.\u001b[39;49m\u001b[43mreadlines\u001b[49m\u001b[43m(\u001b[49m\u001b[43m)\u001b[49m\n\u001b[1;32m     98\u001b[0m \u001b[43m    \u001b[49m\u001b[38;5;28;43;01mif\u001b[39;49;00m\u001b[43m \u001b[49m\u001b[38;5;129;43;01mnot\u001b[39;49;00m\u001b[43m \u001b[49m\u001b[43mlines\u001b[49m\u001b[43m:\u001b[49m\n",
      "File \u001b[0;32m~/anaconda3/lib/python3.11/contextlib.py:137\u001b[0m, in \u001b[0;36m_GeneratorContextManager.__enter__\u001b[0;34m(self)\u001b[0m\n\u001b[1;32m    135\u001b[0m \u001b[38;5;28;01mdel\u001b[39;00m \u001b[38;5;28mself\u001b[39m\u001b[38;5;241m.\u001b[39margs, \u001b[38;5;28mself\u001b[39m\u001b[38;5;241m.\u001b[39mkwds, \u001b[38;5;28mself\u001b[39m\u001b[38;5;241m.\u001b[39mfunc\n\u001b[1;32m    136\u001b[0m \u001b[38;5;28;01mtry\u001b[39;00m:\n\u001b[0;32m--> 137\u001b[0m     \u001b[38;5;28;01mreturn\u001b[39;00m \u001b[38;5;28mnext\u001b[39m(\u001b[38;5;28mself\u001b[39m\u001b[38;5;241m.\u001b[39mgen)\n\u001b[1;32m    138\u001b[0m \u001b[38;5;28;01mexcept\u001b[39;00m \u001b[38;5;167;01mStopIteration\u001b[39;00m:\n\u001b[1;32m    139\u001b[0m     \u001b[38;5;28;01mraise\u001b[39;00m \u001b[38;5;167;01mRuntimeError\u001b[39;00m(\u001b[38;5;124m\"\u001b[39m\u001b[38;5;124mgenerator didn\u001b[39m\u001b[38;5;124m'\u001b[39m\u001b[38;5;124mt yield\u001b[39m\u001b[38;5;124m\"\u001b[39m) \u001b[38;5;28;01mfrom\u001b[39;00m \u001b[38;5;28;01mNone\u001b[39;00m\n",
      "File \u001b[0;32m~/anaconda3/lib/python3.11/site-packages/Bio/File.py:72\u001b[0m, in \u001b[0;36mas_handle\u001b[0;34m(handleish, mode, **kwargs)\u001b[0m\n\u001b[1;32m     30\u001b[0m \u001b[38;5;250m\u001b[39m\u001b[38;5;124mr\u001b[39m\u001b[38;5;124;03m\"\"\"Context manager to ensure we are using a handle.\u001b[39;00m\n\u001b[1;32m     31\u001b[0m \n\u001b[1;32m     32\u001b[0m \u001b[38;5;124;03mContext manager for arguments that can be passed to SeqIO and AlignIO read, write,\u001b[39;00m\n\u001b[0;32m   (...)\u001b[0m\n\u001b[1;32m     69\u001b[0m \n\u001b[1;32m     70\u001b[0m \u001b[38;5;124;03m\"\"\"\u001b[39;00m\n\u001b[1;32m     71\u001b[0m \u001b[38;5;28;01mtry\u001b[39;00m:\n\u001b[0;32m---> 72\u001b[0m     \u001b[38;5;28;01mwith\u001b[39;00m \u001b[38;5;28;43mopen\u001b[39;49m\u001b[43m(\u001b[49m\u001b[43mhandleish\u001b[49m\u001b[43m,\u001b[49m\u001b[43m \u001b[49m\u001b[43mmode\u001b[49m\u001b[43m,\u001b[49m\u001b[43m \u001b[49m\u001b[38;5;241;43m*\u001b[39;49m\u001b[38;5;241;43m*\u001b[39;49m\u001b[43mkwargs\u001b[49m\u001b[43m)\u001b[49m \u001b[38;5;28;01mas\u001b[39;00m fp:\n\u001b[1;32m     73\u001b[0m         \u001b[38;5;28;01myield\u001b[39;00m fp\n\u001b[1;32m     74\u001b[0m \u001b[38;5;28;01mexcept\u001b[39;00m \u001b[38;5;167;01mTypeError\u001b[39;00m:\n",
      "\u001b[0;31mFileNotFoundError\u001b[0m: [Errno 2] No such file or directory: 'input.pdb'"
     ]
    }
   ],
   "source": [
    "from Bio.PDB import PDBParser, NeighborSearch\n",
    "from scipy.spatial import KDTree\n",
    "import numpy as np\n",
    "\n",
    "def find_nearby_atoms_fast(input_pdb, rf_pdb, residues_of_interest, distance_threshold):\n",
    "    # Parse the input PDB files\n",
    "    parser = PDBParser(QUIET=True)\n",
    "    input_structure = parser.get_structure(\"input\", input_pdb)\n",
    "    rf_structure = parser.get_structure(\"rf\", rf_pdb)\n",
    "\n",
    "    # Get coordinates of atoms from the specified residues in the input PDB\n",
    "    atoms_of_interest = []\n",
    "    for model in input_structure:\n",
    "        for chain in model:\n",
    "            for residue in chain:\n",
    "                if residue.get_id()[1] in residues_of_interest:  # Get residue number\n",
    "                    atoms_of_interest.extend(residue.get_atoms())\n",
    "\n",
    "    # Convert the list of atoms to an array of coordinates for faster processing\n",
    "    interest_coords = np.array([atom.coord for atom in atoms_of_interest])\n",
    "\n",
    "    # Get all atoms from RFdiff1.pdb and their coordinates\n",
    "    rf_atoms = list(rf_structure.get_atoms())\n",
    "    rf_coords = np.array([atom.coord for atom in rf_atoms])\n",
    "\n",
    "    # Use KDTree for efficient nearest-neighbor search\n",
    "    kd_tree = KDTree(rf_coords)\n",
    "\n",
    "    # Find atoms within the distance threshold\n",
    "    nearby_atoms = []\n",
    "    for idx, coord in enumerate(interest_coords):\n",
    "        indices = kd_tree.query_ball_point(coord, distance_threshold)\n",
    "        for i in indices:\n",
    "            distance = np.linalg.norm(coord - rf_coords[i])\n",
    "            if distance <= distance_threshold:\n",
    "                nearby_atoms.append((atoms_of_interest[idx], rf_atoms[i], distance))\n",
    "\n",
    "    return nearby_atoms\n",
    "\n",
    "# Parameters\n",
    "input_pdb = \"input.pdb\"\n",
    "rf_pdb = \"RFdiff1.pdb\"\n",
    "residues_of_interest = [10, 20, 30]  # Example residue numbers\n",
    "distance_threshold = 5.0  # Angstroms\n",
    "\n",
    "# Find nearby atoms\n",
    "nearby_atoms = find_nearby_atoms_fast(input_pdb, rf_pdb, residues_of_interest, distance_threshold)\n",
    "\n",
    "# Output the results\n",
    "for atom1, atom2, distance in nearby_atoms:\n",
    "    print(f\"Input atom {atom1.get_id()} in residue {atom1.get_parent().get_id()[1]} \"\n",
    "          f\"is {distance:.2f} Å from RF atom {atom2.get_id()} in residue {atom2.get_parent().get_id()[1]}\")"
   ]
  },
  {
   "cell_type": "code",
   "execution_count": null,
   "id": "865d92b7",
   "metadata": {},
   "outputs": [],
   "source": []
  }
 ],
 "metadata": {
  "kernelspec": {
   "display_name": "Python 3 (ipykernel)",
   "language": "python",
   "name": "python3"
  },
  "language_info": {
   "codemirror_mode": {
    "name": "ipython",
    "version": 3
   },
   "file_extension": ".py",
   "mimetype": "text/x-python",
   "name": "python",
   "nbconvert_exporter": "python",
   "pygments_lexer": "ipython3",
   "version": "3.11.5"
  }
 },
 "nbformat": 4,
 "nbformat_minor": 5
}
