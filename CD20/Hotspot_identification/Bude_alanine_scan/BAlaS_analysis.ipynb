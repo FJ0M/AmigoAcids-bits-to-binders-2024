{
 "cells": [
  {
   "cell_type": "code",
   "execution_count": 1,
   "id": "741c1bb7",
   "metadata": {},
   "outputs": [],
   "source": [
    "import pandas as pd"
   ]
  },
  {
   "cell_type": "code",
   "execution_count": 17,
   "id": "bac452bc",
   "metadata": {},
   "outputs": [],
   "source": [
    "lig_scan = pd.read_csv('./66d1e02b207547a99f51707d/replot/66d1e02b207547a99f51707dLig_scan_20240830151053_plot_data.csv',\n",
    "                       skiprows=9, on_bad_lines='skip')\n",
    "rec_scan = pd.read_csv('./66d1e02b207547a99f51707d/replot/66d1e02b207547a99f51707dRec_scan_20240830151053_plot_data.csv',\n",
    "                       skiprows=9, on_bad_lines='skip')\n"
   ]
  },
  {
   "cell_type": "code",
   "execution_count": 21,
   "id": "3695a026",
   "metadata": {},
   "outputs": [],
   "source": [
    "lig_scan = lig_scan[lig_scan['ddGs']>2]\n",
    "rec_scan = rec_scan[rec_scan['ddGs']>2]"
   ]
  },
  {
   "cell_type": "code",
   "execution_count": 23,
   "id": "e45295cc",
   "metadata": {},
   "outputs": [
    {
     "data": {
      "text/html": [
       "<div>\n",
       "<style scoped>\n",
       "    .dataframe tbody tr th:only-of-type {\n",
       "        vertical-align: middle;\n",
       "    }\n",
       "\n",
       "    .dataframe tbody tr th {\n",
       "        vertical-align: top;\n",
       "    }\n",
       "\n",
       "    .dataframe thead th {\n",
       "        text-align: right;\n",
       "    }\n",
       "</style>\n",
       "<table border=\"1\" class=\"dataframe\">\n",
       "  <thead>\n",
       "    <tr style=\"text-align: right;\">\n",
       "      <th></th>\n",
       "      <th>ResNumber</th>\n",
       "      <th>ResName</th>\n",
       "      <th>ddGs</th>\n",
       "      <th>std_dev</th>\n",
       "      <th>sideCh_size</th>\n",
       "    </tr>\n",
       "  </thead>\n",
       "  <tbody>\n",
       "    <tr>\n",
       "      <th>115</th>\n",
       "      <td>C161</td>\n",
       "      <td>TYR</td>\n",
       "      <td>7.8872</td>\n",
       "      <td>0.0</td>\n",
       "      <td>7</td>\n",
       "    </tr>\n",
       "    <tr>\n",
       "      <th>125</th>\n",
       "      <td>C171</td>\n",
       "      <td>ASN</td>\n",
       "      <td>4.5695</td>\n",
       "      <td>0.0</td>\n",
       "      <td>3</td>\n",
       "    </tr>\n",
       "    <tr>\n",
       "      <th>126</th>\n",
       "      <td>C172</td>\n",
       "      <td>PRO</td>\n",
       "      <td>6.9011</td>\n",
       "      <td>0.0</td>\n",
       "      <td>2</td>\n",
       "    </tr>\n",
       "    <tr>\n",
       "      <th>127</th>\n",
       "      <td>C173</td>\n",
       "      <td>SER</td>\n",
       "      <td>4.0501</td>\n",
       "      <td>0.0</td>\n",
       "      <td>1</td>\n",
       "    </tr>\n",
       "    <tr>\n",
       "      <th>128</th>\n",
       "      <td>C174</td>\n",
       "      <td>GLU</td>\n",
       "      <td>4.3691</td>\n",
       "      <td>0.0</td>\n",
       "      <td>4</td>\n",
       "    </tr>\n",
       "    <tr>\n",
       "      <th>129</th>\n",
       "      <td>C175</td>\n",
       "      <td>LYS</td>\n",
       "      <td>5.0076</td>\n",
       "      <td>0.0</td>\n",
       "      <td>4</td>\n",
       "    </tr>\n",
       "    <tr>\n",
       "      <th>280</th>\n",
       "      <td>D161</td>\n",
       "      <td>TYR</td>\n",
       "      <td>7.7488</td>\n",
       "      <td>0.0</td>\n",
       "      <td>7</td>\n",
       "    </tr>\n",
       "    <tr>\n",
       "      <th>290</th>\n",
       "      <td>D171</td>\n",
       "      <td>ASN</td>\n",
       "      <td>5.2512</td>\n",
       "      <td>0.0</td>\n",
       "      <td>3</td>\n",
       "    </tr>\n",
       "    <tr>\n",
       "      <th>291</th>\n",
       "      <td>D172</td>\n",
       "      <td>PRO</td>\n",
       "      <td>6.8389</td>\n",
       "      <td>0.0</td>\n",
       "      <td>2</td>\n",
       "    </tr>\n",
       "    <tr>\n",
       "      <th>292</th>\n",
       "      <td>D173</td>\n",
       "      <td>SER</td>\n",
       "      <td>3.8577</td>\n",
       "      <td>0.0</td>\n",
       "      <td>1</td>\n",
       "    </tr>\n",
       "    <tr>\n",
       "      <th>293</th>\n",
       "      <td>D174</td>\n",
       "      <td>GLU</td>\n",
       "      <td>4.4073</td>\n",
       "      <td>0.0</td>\n",
       "      <td>4</td>\n",
       "    </tr>\n",
       "    <tr>\n",
       "      <th>294</th>\n",
       "      <td>D175</td>\n",
       "      <td>LYS</td>\n",
       "      <td>4.8323</td>\n",
       "      <td>0.0</td>\n",
       "      <td>4</td>\n",
       "    </tr>\n",
       "  </tbody>\n",
       "</table>\n",
       "</div>"
      ],
      "text/plain": [
       "    ResNumber ResName    ddGs  std_dev  sideCh_size\n",
       "115      C161     TYR  7.8872      0.0            7\n",
       "125      C171     ASN  4.5695      0.0            3\n",
       "126      C172     PRO  6.9011      0.0            2\n",
       "127      C173     SER  4.0501      0.0            1\n",
       "128      C174     GLU  4.3691      0.0            4\n",
       "129      C175     LYS  5.0076      0.0            4\n",
       "280      D161     TYR  7.7488      0.0            7\n",
       "290      D171     ASN  5.2512      0.0            3\n",
       "291      D172     PRO  6.8389      0.0            2\n",
       "292      D173     SER  3.8577      0.0            1\n",
       "293      D174     GLU  4.4073      0.0            4\n",
       "294      D175     LYS  4.8323      0.0            4"
      ]
     },
     "execution_count": 23,
     "metadata": {},
     "output_type": "execute_result"
    }
   ],
   "source": [
    "rec_scan"
   ]
  },
  {
   "cell_type": "code",
   "execution_count": 24,
   "id": "a508d9d3",
   "metadata": {},
   "outputs": [
    {
     "data": {
      "text/plain": [
       "array(['C161', 'C171', 'C172', 'C173', 'C174', 'C175', 'D161', 'D171',\n",
       "       'D172', 'D173', 'D174', 'D175'], dtype=object)"
      ]
     },
     "execution_count": 24,
     "metadata": {},
     "output_type": "execute_result"
    }
   ],
   "source": [
    "rec_scan['ResNumber'].values"
   ]
  }
 ],
 "metadata": {
  "kernelspec": {
   "display_name": "Python 3 (ipykernel)",
   "language": "python",
   "name": "python3"
  },
  "language_info": {
   "codemirror_mode": {
    "name": "ipython",
    "version": 3
   },
   "file_extension": ".py",
   "mimetype": "text/x-python",
   "name": "python",
   "nbconvert_exporter": "python",
   "pygments_lexer": "ipython3",
   "version": "3.11.5"
  }
 },
 "nbformat": 4,
 "nbformat_minor": 5
}
