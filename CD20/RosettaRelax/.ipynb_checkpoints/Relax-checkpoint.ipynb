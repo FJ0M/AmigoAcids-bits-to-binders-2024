{
 "cells": [
  {
   "cell_type": "code",
   "execution_count": 1,
   "id": "63c76ea0",
   "metadata": {},
   "outputs": [],
   "source": [
    "import os"
   ]
  },
  {
   "cell_type": "code",
   "execution_count": 3,
   "id": "8ffc3ff1",
   "metadata": {},
   "outputs": [
    {
     "data": {
      "application/vnd.jupyter.widget-view+json": {
       "model_id": "de342c2bbcea4d999eb331b1f1e6455e",
       "version_major": 2,
       "version_minor": 0
      },
      "text/plain": []
     },
     "metadata": {},
     "output_type": "display_data"
    }
   ],
   "source": [
    "import nglview"
   ]
  },
  {
   "cell_type": "code",
   "execution_count": 4,
   "id": "ce9c0eb4",
   "metadata": {},
   "outputs": [],
   "source": [
    "pdb_of_interest = \"../structures/6vja.pdb\""
   ]
  },
  {
   "cell_type": "code",
   "execution_count": 5,
   "id": "c99f6420",
   "metadata": {},
   "outputs": [
    {
     "data": {
      "application/vnd.jupyter.widget-view+json": {
       "model_id": "a8caa59d26e84630833005adce05d77e",
       "version_major": 2,
       "version_minor": 0
      },
      "text/plain": [
       "NGLWidget()"
      ]
     },
     "metadata": {},
     "output_type": "display_data"
    }
   ],
   "source": [
    "view = nglview.show_structure_file(pdb_of_interest)  # load \"3pqr\" from RCSB PDB and display viewer widget\n",
    "view"
   ]
  },
  {
   "cell_type": "code",
   "execution_count": 6,
   "id": "97115043",
   "metadata": {},
   "outputs": [],
   "source": [
    "import FM_relax_utils"
   ]
  },
  {
   "cell_type": "code",
   "execution_count": 7,
   "id": "f3b9cab9",
   "metadata": {},
   "outputs": [],
   "source": [
    "outfile = '/Users/phr361/Documents/Coding/AmigoAcids-bits-to-binders-2024/CD20/RosettaRelax/out/'"
   ]
  },
  {
   "cell_type": "code",
   "execution_count": null,
   "id": "3f107f18",
   "metadata": {},
   "outputs": [],
   "source": [
    "os.mkdir(outfile)"
   ]
  },
  {
   "cell_type": "code",
   "execution_count": null,
   "id": "b12d839f",
   "metadata": {},
   "outputs": [
    {
     "name": "stdout",
     "output_type": "stream",
     "text": [
      "Processing file: ../structures/6vja.pdb\n",
      "/Users/phr361/rosetta_bin_mac_2021.16.61629_bundle/main/source/bin/relax.static.macosclangrelease -s ../structures/6vja.pdb -out:path:all /Users/phr361/Documents/Coding/AmigoAcids-bits-to-binders-2024/CD20/RosettaRelax/out/ @/Users/phr361/Documents/Coding/RosettaFiles/rosetta_relax/02_scripts/relax.flags\n",
      "core.init: Checking for fconfig files in pwd and ./rosetta/flags \n",
      "core.init: Rosetta version: rosetta.binary.mac.release-280 r280 2021.16+release.8ee4f02ac57 8ee4f02ac5768a8a339ffada74cb0ff5f778b3e6 https://www.rosettacommons.org 2021-04-20T11:45:16.822269\n",
      "core.init: command: /Users/phr361/rosetta_bin_mac_2021.16.61629_bundle/main/source/bin/relax.static.macosclangrelease -s ../structures/6vja.pdb -out:path:all /Users/phr361/Documents/Coding/AmigoAcids-bits-to-binders-2024/CD20/RosettaRelax/out/ @/Users/phr361/Documents/Coding/RosettaFiles/rosetta_relax/02_scripts/relax.flags\n",
      "basic.random.init_random_generator: 'RNG device' seed mode, using '/dev/urandom', seed=-337348174 seed_offset=0 real_seed=-337348174\n",
      "basic.random.init_random_generator: RandomGenerator:init: Normal mode, seed=-337348174 RG_type=mt19937\n",
      "core.init: Resolved executable path: /Users/phr361/rosetta_bin_mac_2021.16.61629_bundle/main/source/bin/relax.static.macosclangrelease\n",
      "core.init: Looking for database based on location of executable: /Users/phr361/rosetta_bin_mac_2021.16.61629_bundle/main/database/\n",
      "core.scoring.ScoreFunctionFactory: SCOREFUNCTION: ref2015\n",
      "core.scoring.etable: Starting energy table calculation\n",
      "core.scoring.etable: smooth_etable: changing atr/rep split to bottom of energy well\n",
      "core.scoring.etable: smooth_etable: spline smoothing lj etables (maxdis = 6)\n",
      "core.scoring.etable: smooth_etable: spline smoothing solvation etables (max_dis = 6)\n",
      "core.scoring.etable: Finished calculating energy tables.\n",
      "basic.io.database: Database file opened: scoring/score_functions/hbonds/ref2015_params/HBPoly1D.csv\n",
      "basic.io.database: Database file opened: scoring/score_functions/hbonds/ref2015_params/HBFadeIntervals.csv\n",
      "basic.io.database: Database file opened: scoring/score_functions/hbonds/ref2015_params/HBEval.csv\n",
      "basic.io.database: Database file opened: scoring/score_functions/hbonds/ref2015_params/DonStrength.csv\n",
      "basic.io.database: Database file opened: scoring/score_functions/hbonds/ref2015_params/AccStrength.csv\n",
      "core.chemical.GlobalResidueTypeSet: Finished initializing fa_standard residue type set.  Created 984 residue types\n",
      "core.chemical.GlobalResidueTypeSet: Total time to initialize 2.07184 seconds.\n",
      "basic.io.database: Database file opened: scoring/score_functions/rama/fd/all.ramaProb\n",
      "basic.io.database: Database file opened: scoring/score_functions/rama/fd/prepro.ramaProb\n",
      "basic.io.database: Database file opened: scoring/score_functions/omega/omega_ppdep.all.txt\n",
      "basic.io.database: Database file opened: scoring/score_functions/omega/omega_ppdep.gly.txt\n",
      "basic.io.database: Database file opened: scoring/score_functions/omega/omega_ppdep.pro.txt\n",
      "basic.io.database: Database file opened: scoring/score_functions/omega/omega_ppdep.valile.txt\n",
      "basic.io.database: Database file opened: scoring/score_functions/P_AA_pp/P_AA\n",
      "basic.io.database: Database file opened: scoring/score_functions/P_AA_pp/P_AA_n\n",
      "core.scoring.P_AA: shapovalov_lib::shap_p_aa_pp_smooth_level of 1( aka low_smooth ) got activated.\n",
      "basic.io.database: Database file opened: scoring/score_functions/P_AA_pp/shapovalov/10deg/kappa131/a20.prop\n",
      "protocols.relax.RelaxScriptManager: Reading relax scripts list from database.\n",
      "protocols.relax.RelaxScriptManager: Looking for MonomerRelax2019.txt\n",
      "protocols.relax.RelaxScriptManager: ================== Reading script file: /Users/phr361/rosetta_bin_mac_2021.16.61629_bundle/main/database/sampling/relax_scripts/MonomerRelax2019.txt ==================\n",
      "protocols.relax.RelaxScriptManager: repeat %%nrepeats%%\n",
      "protocols.relax.RelaxScriptManager: coord_cst_weight 1.0\n",
      "protocols.relax.RelaxScriptManager: scale:fa_rep 0.040\n",
      "protocols.relax.RelaxScriptManager: repack\n",
      "protocols.relax.RelaxScriptManager: scale:fa_rep 0.051\n",
      "protocols.relax.RelaxScriptManager: min 0.01\n",
      "protocols.relax.RelaxScriptManager: coord_cst_weight 0.5\n",
      "protocols.relax.RelaxScriptManager: scale:fa_rep 0.265\n",
      "protocols.relax.RelaxScriptManager: repack\n",
      "protocols.relax.RelaxScriptManager: scale:fa_rep 0.280\n",
      "protocols.relax.RelaxScriptManager: min 0.01\n",
      "protocols.relax.RelaxScriptManager: coord_cst_weight 0.0\n",
      "protocols.relax.RelaxScriptManager: scale:fa_rep 0.559\n",
      "protocols.relax.RelaxScriptManager: repack\n",
      "protocols.relax.RelaxScriptManager: scale:fa_rep 0.581\n",
      "protocols.relax.RelaxScriptManager: min 0.01\n",
      "protocols.relax.RelaxScriptManager: coord_cst_weight 0.0\n",
      "protocols.relax.RelaxScriptManager: scale:fa_rep 1\n",
      "protocols.relax.RelaxScriptManager: repack\n",
      "protocols.relax.RelaxScriptManager: min 0.00001\n",
      "protocols.relax.RelaxScriptManager: accept_to_best\n",
      "protocols.relax.RelaxScriptManager: endrepeat\n",
      "protocols.jd2.PDBJobInputter: Instantiate PDBJobInputter\n",
      "protocols.jd2.PDBJobInputter: PDBJobInputter::fill_jobs\n",
      "protocols.jd2.PDBJobInputter: pushed ../structures/6vja.pdb nstruct index 1\n",
      "protocols.evaluation.ChiWellRmsdEvaluatorCreator: Evaluation Creator active ... \n",
      "protocols.jd2.PDBJobInputter: PDBJobInputter::pose_from_job\n",
      "protocols.jd2.PDBJobInputter: filling pose from PDB ../structures/6vja.pdb\n",
      "core.import_pose.import_pose: File '../structures/6vja.pdb' automatically determined to be of type PDB\n",
      "core.chemical.GlobalResidueTypeSet: Loading (but possibly not actually using) 'Y01' from the PDB components dictionary for residue type 'pdb_Y01'\n",
      "core.conformation.Conformation: [ WARNING ] missing heavyatom:  OXT on residue GLY:CtermProteinFull 165\n",
      "core.conformation.Conformation: [ WARNING ] missing heavyatom:  OXT on residue GLY:CtermProteinFull 333\n",
      "core.conformation.Conformation: [ WARNING ] missing heavyatom:  OXT on residue CYS:CtermProteinFull 560\n",
      "core.conformation.Conformation: [ WARNING ] missing heavyatom:  OXT on residue CYS:CtermProteinFull 784\n",
      "core.conformation.Conformation: Found disulfide between residues 122 138\n",
      "core.conformation.Conformation: current variant for 122 CYS\n",
      "core.conformation.Conformation: current variant for 138 CYS\n",
      "core.conformation.Conformation: current variant for 122 CYD\n",
      "core.conformation.Conformation: current variant for 138 CYD\n",
      "core.conformation.Conformation: Found disulfide between residues 290 306\n",
      "core.conformation.Conformation: current variant for 290 CYS\n",
      "core.conformation.Conformation: current variant for 306 CYS\n",
      "core.conformation.Conformation: current variant for 290 CYD\n",
      "core.conformation.Conformation: current variant for 306 CYD\n",
      "core.conformation.Conformation: Found disulfide between residues 358 432\n",
      "core.conformation.Conformation: current variant for 358 CYS\n",
      "core.conformation.Conformation: current variant for 432 CYS\n",
      "core.conformation.Conformation: current variant for 358 CYD\n",
      "core.conformation.Conformation: current variant for 432 CYD\n",
      "core.conformation.Conformation: Found disulfide between residues 484 540\n",
      "core.conformation.Conformation: current variant for 484 CYS\n",
      "core.conformation.Conformation: current variant for 540 CYS\n",
      "core.conformation.Conformation: current variant for 484 CYD\n",
      "core.conformation.Conformation: current variant for 540 CYD\n",
      "core.conformation.Conformation: Found disulfide between residues 560 997\n",
      "core.conformation.Conformation: current variant for 560 CYS\n",
      "core.conformation.Conformation: current variant for 997 CYS\n",
      "core.conformation.Conformation: current variant for 560 CYD\n",
      "core.conformation.Conformation: current variant for 997 CYD\n",
      "core.conformation.Conformation: Found disulfide between residues 582 656\n",
      "core.conformation.Conformation: current variant for 582 CYS\n",
      "core.conformation.Conformation: current variant for 656 CYS\n",
      "core.conformation.Conformation: current variant for 582 CYD\n",
      "core.conformation.Conformation: current variant for 656 CYD\n",
      "core.conformation.Conformation: Found disulfide between residues 708 764\n",
      "core.conformation.Conformation: current variant for 708 CYS\n",
      "core.conformation.Conformation: current variant for 764 CYS\n",
      "core.conformation.Conformation: current variant for 708 CYD\n",
      "core.conformation.Conformation: current variant for 764 CYD\n",
      "core.conformation.Conformation: Found disulfide between residues 784 1210\n",
      "core.conformation.Conformation: current variant for 784 CYS\n",
      "core.conformation.Conformation: current variant for 1210 CYS\n",
      "core.conformation.Conformation: current variant for 784 CYD\n",
      "core.conformation.Conformation: current variant for 1210 CYD\n",
      "core.conformation.Conformation: Found disulfide between residues 807 871\n",
      "core.conformation.Conformation: current variant for 807 CYS\n",
      "core.conformation.Conformation: current variant for 871 CYS\n",
      "core.conformation.Conformation: current variant for 807 CYD\n",
      "core.conformation.Conformation: current variant for 871 CYD\n",
      "core.conformation.Conformation: Found disulfide between residues 917 977\n",
      "core.conformation.Conformation: current variant for 917 CYS\n",
      "core.conformation.Conformation: current variant for 977 CYS\n",
      "core.conformation.Conformation: current variant for 917 CYD\n",
      "core.conformation.Conformation: current variant for 977 CYD\n",
      "core.conformation.Conformation: Found disulfide between residues 1130 1190\n",
      "core.conformation.Conformation: current variant for 1130 CYS\n",
      "core.conformation.Conformation: current variant for 1190 CYS\n",
      "core.conformation.Conformation: current variant for 1130 CYD\n",
      "core.conformation.Conformation: current variant for 1190 CYD\n",
      "basic.io.database: Database file opened: scoring/score_functions/elec_cp_reps.dat\n",
      "core.scoring.elec.util: Read 40 countpair representative atoms\n",
      "core.pack.dunbrack.RotamerLibrary: shapovalov_lib_fixes_enable option is true.\n",
      "core.pack.dunbrack.RotamerLibrary: shapovalov_lib::shap_dun10_smooth_level of 1( aka lowest_smooth ) got activated.\n",
      "core.pack.dunbrack.RotamerLibrary: Binary rotamer library selected: /Users/phr361/rosetta_bin_mac_2021.16.61629_bundle/main/database/rotamer/shapovalov/StpDwn_0-0-0/Dunbrack10.lib.bin\n",
      "core.pack.dunbrack.RotamerLibrary: Using Dunbrack library binary file '/Users/phr361/rosetta_bin_mac_2021.16.61629_bundle/main/database/rotamer/shapovalov/StpDwn_0-0-0/Dunbrack10.lib.bin'.\n",
      "core.pack.dunbrack.RotamerLibrary: Dunbrack 2010 library took 0.129463 seconds to load from binary\n",
      "protocols.relax.FastRelax: CMD: repeat  -448.021  0  0  0.55\n",
      "protocols.relax.FastRelax: CMD: coord_cst_weight  -448.021  0  0  0.55\n",
      "protocols.relax.FastRelax: CMD: scale:fa_rep  -1296.23  0  0  0.022\n",
      "core.pack.task: Packer task: initialize from command line() \n",
      "core.pack.rotamer_set.RotamerSet_: Using simple Rotamer generation logic for pdb_Y01\n",
      "core.pack.rotamer_set.RotamerSet_: Using simple Rotamer generation logic for pdb_Y01\n",
      "core.pack.rotamer_set.RotamerSet_: Using simple Rotamer generation logic for pdb_Y01\n",
      "core.pack.rotamer_set.RotamerSet_: Using simple Rotamer generation logic for pdb_Y01\n",
      "core.pack.rotamer_set.RotamerSet_: Using simple Rotamer generation logic for pdb_Y01\n",
      "core.pack.rotamer_set.RotamerSet_: Using simple Rotamer generation logic for pdb_Y01\n",
      "core.pack.pack_rotamers: built 21262 rotamers at 1211 positions.\n",
      "core.pack.interaction_graph.interaction_graph_factory: Instantiating DensePDInteractionGraph\n",
      "protocols.relax.FastRelax: CMD: repack  -2747.89  0  0  0.022\n",
      "protocols.relax.FastRelax: CMD: scale:fa_rep  -2698.68  0  0  0.02805\n",
      "core.optimization.Minimizer: [ WARNING ] LBFGS MAX CYCLES 2000 EXCEEDED, BUT FUNC NOT CONVERGED!\n",
      "protocols.relax.FastRelax: CMD: min  -3984.29  0.324806  0.324806  0.02805\n",
      "protocols.relax.FastRelax: CMD: coord_cst_weight  -4109.71  0.324806  0.324806  0.02805\n",
      "protocols.relax.FastRelax: CMD: scale:fa_rep  -3299.58  0.324806  0.324806  0.14575\n",
      "core.pack.task: Packer task: initialize from command line() \n",
      "core.pack.rotamer_set.RotamerSet_: Using simple Rotamer generation logic for pdb_Y01\n",
      "core.pack.rotamer_set.RotamerSet_: Using simple Rotamer generation logic for pdb_Y01\n",
      "core.pack.rotamer_set.RotamerSet_: Using simple Rotamer generation logic for pdb_Y01\n",
      "core.pack.rotamer_set.RotamerSet_: Using simple Rotamer generation logic for pdb_Y01\n",
      "core.pack.rotamer_set.RotamerSet_: Using simple Rotamer generation logic for pdb_Y01\n",
      "core.pack.rotamer_set.RotamerSet_: Using simple Rotamer generation logic for pdb_Y01\n",
      "core.pack.pack_rotamers: built 19770 rotamers at 1211 positions.\n",
      "core.pack.interaction_graph.interaction_graph_factory: Instantiating DensePDInteractionGraph\n",
      "protocols.relax.FastRelax: CMD: repack  -3389.13  0.324806  0.324806  0.14575\n",
      "protocols.relax.FastRelax: CMD: scale:fa_rep  -3343.63  0.324806  0.324806  0.154\n",
      "core.optimization.Minimizer: [ WARNING ] LBFGS MAX CYCLES 2000 EXCEEDED, BUT FUNC NOT CONVERGED!\n",
      "protocols.relax.FastRelax: CMD: min  -3803.65  0.390304  0.390304  0.154\n",
      "protocols.relax.FastRelax: CMD: coord_cst_weight  -3990.18  0.390304  0.390304  0.154\n",
      "protocols.relax.FastRelax: CMD: scale:fa_rep  -3605.97  0.390304  0.390304  0.30745\n",
      "core.pack.task: Packer task: initialize from command line() \n",
      "core.pack.rotamer_set.RotamerSet_: Using simple Rotamer generation logic for pdb_Y01\n",
      "core.pack.rotamer_set.RotamerSet_: Using simple Rotamer generation logic for pdb_Y01\n",
      "core.pack.rotamer_set.RotamerSet_: Using simple Rotamer generation logic for pdb_Y01\n",
      "core.pack.rotamer_set.RotamerSet_: Using simple Rotamer generation logic for pdb_Y01\n",
      "core.pack.rotamer_set.RotamerSet_: Using simple Rotamer generation logic for pdb_Y01\n",
      "core.pack.rotamer_set.RotamerSet_: Using simple Rotamer generation logic for pdb_Y01\n",
      "core.pack.pack_rotamers: built 19329 rotamers at 1211 positions.\n",
      "core.pack.interaction_graph.interaction_graph_factory: Instantiating DensePDInteractionGraph\n",
      "protocols.relax.FastRelax: CMD: repack  -3605  0.390304  0.390304  0.30745\n",
      "protocols.relax.FastRelax: CMD: scale:fa_rep  -3575.19  0.390304  0.390304  0.31955\n",
      "core.optimization.Minimizer: [ WARNING ] LBFGS MAX CYCLES 2000 EXCEEDED, BUT FUNC NOT CONVERGED!\n",
      "protocols.relax.FastRelax: CMD: min  -3833.47  6.1463  6.1463  0.31955\n",
      "protocols.relax.FastRelax: CMD: coord_cst_weight  -3833.47  6.1463  6.1463  0.31955\n",
      "protocols.relax.FastRelax: CMD: scale:fa_rep  -3325.52  6.1463  6.1463  0.55\n",
      "core.pack.task: Packer task: initialize from command line() \n",
      "core.pack.rotamer_set.RotamerSet_: Using simple Rotamer generation logic for pdb_Y01\n",
      "core.pack.rotamer_set.RotamerSet_: Using simple Rotamer generation logic for pdb_Y01\n",
      "core.pack.rotamer_set.RotamerSet_: Using simple Rotamer generation logic for pdb_Y01\n",
      "core.pack.rotamer_set.RotamerSet_: Using simple Rotamer generation logic for pdb_Y01\n",
      "core.pack.rotamer_set.RotamerSet_: Using simple Rotamer generation logic for pdb_Y01\n",
      "core.pack.rotamer_set.RotamerSet_: Using simple Rotamer generation logic for pdb_Y01\n",
      "core.pack.pack_rotamers: built 18935 rotamers at 1211 positions.\n",
      "core.pack.interaction_graph.interaction_graph_factory: Instantiating DensePDInteractionGraph\n",
      "protocols.relax.FastRelax: CMD: repack  -3432.11  6.1463  6.1463  0.55\n",
      "protocols.relax.FastRelax: CMD: min  -3562.91  7.14425  7.14425  0.55\n",
      "protocols.relax.FastRelax: MRP: 0  -3562.91  -3562.91  7.14425  7.14425  \n",
      "protocols.relax.FastRelax: CMD: accept_to_best  -3562.91  7.14425  7.14425  0.55\n",
      "protocols.relax.FastRelax: CMD: endrepeat  -3562.91  7.14425  7.14425  0.55\n",
      "protocols.relax.FastRelax: CMD: coord_cst_weight  179149  7.14425  7.14425  0.55\n",
      "protocols.relax.FastRelax: CMD: scale:fa_rep  178412  7.14425  7.14425  0.022\n",
      "core.pack.task: Packer task: initialize from command line() \n",
      "core.pack.rotamer_set.RotamerSet_: Using simple Rotamer generation logic for pdb_Y01\n",
      "core.pack.rotamer_set.RotamerSet_: Using simple Rotamer generation logic for pdb_Y01\n",
      "core.pack.rotamer_set.RotamerSet_: Using simple Rotamer generation logic for pdb_Y01\n",
      "core.pack.rotamer_set.RotamerSet_: Using simple Rotamer generation logic for pdb_Y01\n",
      "core.pack.rotamer_set.RotamerSet_: Using simple Rotamer generation logic for pdb_Y01\n",
      "core.pack.rotamer_set.RotamerSet_: Using simple Rotamer generation logic for pdb_Y01\n",
      "core.pack.pack_rotamers: built 20416 rotamers at 1211 positions.\n",
      "core.pack.interaction_graph.interaction_graph_factory: Instantiating DensePDInteractionGraph\n",
      "protocols.relax.FastRelax: CMD: repack  178362  7.14425  7.14425  0.022\n",
      "protocols.relax.FastRelax: CMD: scale:fa_rep  178383  7.14425  7.14425  0.02805\n",
      "core.optimization.Minimizer: [ WARNING ] LBFGS MAX CYCLES 2000 EXCEEDED, BUT FUNC NOT CONVERGED!\n",
      "protocols.relax.FastRelax: CMD: min  -3862.03  0.406007  0.406007  0.02805\n",
      "protocols.relax.FastRelax: CMD: coord_cst_weight  -4060.78  0.406007  0.406007  0.02805\n",
      "protocols.relax.FastRelax: CMD: scale:fa_rep  -3015.12  0.406007  0.406007  0.14575\n",
      "core.pack.task: Packer task: initialize from command line() \n",
      "core.pack.rotamer_set.RotamerSet_: Using simple Rotamer generation logic "
     ]
    }
   ],
   "source": [
    "FM_relax_utils.run_relax(pdb=pdb_of_interest,outfile=outfile)"
   ]
  },
  {
   "cell_type": "code",
   "execution_count": null,
   "id": "0ff78f67",
   "metadata": {},
   "outputs": [],
   "source": [
    "relaxed_pdb = \"./out/.pdb\"\n",
    "view = nglview.show_structure_file(relaxed_pdb)  \n",
    "view"
   ]
  },
  {
   "cell_type": "code",
   "execution_count": null,
   "id": "f76e5dc5",
   "metadata": {},
   "outputs": [],
   "source": [
    "structures = ['../structures/6vja_CD20only.pdb',\n",
    "              '../structures/6y97.pdb', \n",
    "              '../structures/6y92.pdb', \n",
    "              '../structures/6y90.pdb', \n",
    "              '../structures/6y9a.pdb', \n",
    "             ]\n"
   ]
  },
  {
   "cell_type": "code",
   "execution_count": null,
   "id": "4a1575cb",
   "metadata": {},
   "outputs": [],
   "source": [
    "for structure in structures:\n",
    "    FM_relax_utils.run_relax(pdb=structure,outfile=outfile)"
   ]
  },
  {
   "cell_type": "code",
   "execution_count": null,
   "id": "910a58e4",
   "metadata": {},
   "outputs": [],
   "source": []
  }
 ],
 "metadata": {
  "kernelspec": {
   "display_name": "Python 3 (ipykernel)",
   "language": "python",
   "name": "python3"
  },
  "language_info": {
   "codemirror_mode": {
    "name": "ipython",
    "version": 3
   },
   "file_extension": ".py",
   "mimetype": "text/x-python",
   "name": "python",
   "nbconvert_exporter": "python",
   "pygments_lexer": "ipython3",
   "version": "3.11.5"
  }
 },
 "nbformat": 4,
 "nbformat_minor": 5
}
