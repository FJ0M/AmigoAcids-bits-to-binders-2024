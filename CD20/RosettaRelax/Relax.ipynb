{
 "cells": [
  {
   "cell_type": "code",
   "execution_count": 1,
   "id": "63c76ea0",
   "metadata": {},
   "outputs": [],
   "source": [
    "import os"
   ]
  },
  {
   "cell_type": "code",
   "execution_count": 2,
   "id": "8ffc3ff1",
   "metadata": {},
   "outputs": [
    {
     "data": {
      "application/vnd.jupyter.widget-view+json": {
       "model_id": "95640c21f2eb4c5eb7b3470bffce705a",
       "version_major": 2,
       "version_minor": 0
      },
      "text/plain": []
     },
     "metadata": {},
     "output_type": "display_data"
    }
   ],
   "source": [
    "import nglview"
   ]
  },
  {
   "cell_type": "code",
   "execution_count": 3,
   "id": "ce9c0eb4",
   "metadata": {},
   "outputs": [],
   "source": [
    "pdb_of_interest = \"../../AlphaPulldown/top_round1/27_ranked_1.pdb\""
   ]
  },
  {
   "cell_type": "code",
   "execution_count": 4,
   "id": "c99f6420",
   "metadata": {},
   "outputs": [
    {
     "data": {
      "application/vnd.jupyter.widget-view+json": {
       "model_id": "b6e508466ceb4d369857a9d3013acf31",
       "version_major": 2,
       "version_minor": 0
      },
      "text/plain": [
       "NGLWidget()"
      ]
     },
     "metadata": {},
     "output_type": "display_data"
    }
   ],
   "source": [
    "view = nglview.show_structure_file(pdb_of_interest)  # load \"3pqr\" from RCSB PDB and display viewer widget\n",
    "view"
   ]
  },
  {
   "cell_type": "code",
   "execution_count": 5,
   "id": "97115043",
   "metadata": {},
   "outputs": [],
   "source": [
    "import FM_relax_utils"
   ]
  },
  {
   "cell_type": "code",
   "execution_count": 7,
   "id": "f3b9cab9",
   "metadata": {},
   "outputs": [],
   "source": [
    "outfile = '/Users/phr361/Documents/Coding/AmigoAcids-bits-to-binders-2024/AlphaPulldown/RosettaRelax/'"
   ]
  },
  {
   "cell_type": "code",
   "execution_count": 8,
   "id": "fc01802e",
   "metadata": {},
   "outputs": [],
   "source": [
    "os.mkdir(outfile)"
   ]
  },
  {
   "cell_type": "code",
   "execution_count": 9,
   "id": "6188b55f",
   "metadata": {},
   "outputs": [],
   "source": [
    "pdb_dir='/Users/phr361/Documents/Coding/AmigoAcids-bits-to-binders-2024/AlphaPulldown/top_round1/'"
   ]
  },
  {
   "cell_type": "code",
   "execution_count": 10,
   "id": "f76e5dc5",
   "metadata": {},
   "outputs": [],
   "source": [
    "pdb_files = [f for f in os.listdir(pdb_dir) if f.endswith('.pdb')]"
   ]
  },
  {
   "cell_type": "code",
   "execution_count": 11,
   "id": "fda82dba",
   "metadata": {},
   "outputs": [
    {
     "data": {
      "text/plain": [
       "['67_ranked_0.pdb',\n",
       " '51_ranked_2.pdb',\n",
       " '27_ranked_1.pdb',\n",
       " '51_ranked_3.pdb',\n",
       " '67_ranked_1.pdb',\n",
       " '67_ranked_3.pdb',\n",
       " '51_ranked_1.pdb',\n",
       " '27_ranked_2.pdb',\n",
       " '27_ranked_3.pdb',\n",
       " '51_ranked_0.pdb',\n",
       " '51_ranked_4.pdb',\n",
       " '27_ranked_4.pdb',\n",
       " '67_ranked_4.pdb']"
      ]
     },
     "execution_count": 11,
     "metadata": {},
     "output_type": "execute_result"
    }
   ],
   "source": [
    "pdb_files"
   ]
  },
  {
   "cell_type": "code",
   "execution_count": null,
   "id": "16e87055",
   "metadata": {},
   "outputs": [
    {
     "name": "stdout",
     "output_type": "stream",
     "text": [
      "Processing file: /Users/phr361/Documents/Coding/AmigoAcids-bits-to-binders-2024/AlphaPulldown/top_round1/67_ranked_0.pdb\n",
      "/Users/phr361/rosetta_bin_mac_2021.16.61629_bundle/main/source/bin/relax.static.macosclangrelease -s /Users/phr361/Documents/Coding/AmigoAcids-bits-to-binders-2024/AlphaPulldown/top_round1/67_ranked_0.pdb -out:path:all /Users/phr361/Documents/Coding/AmigoAcids-bits-to-binders-2024/AlphaPulldown/RosettaRelax/ @/Users/phr361/Documents/Coding/RosettaFiles/rosetta_relax/02_scripts/relax.flags\n",
      "core.init: Checking for fconfig files in pwd and ./rosetta/flags \n",
      "core.init: Rosetta version: rosetta.binary.mac.release-280 r280 2021.16+release.8ee4f02ac57 8ee4f02ac5768a8a339ffada74cb0ff5f778b3e6 https://www.rosettacommons.org 2021-04-20T11:45:16.822269\n",
      "core.init: command: /Users/phr361/rosetta_bin_mac_2021.16.61629_bundle/main/source/bin/relax.static.macosclangrelease -s /Users/phr361/Documents/Coding/AmigoAcids-bits-to-binders-2024/AlphaPulldown/top_round1/67_ranked_0.pdb -out:path:all /Users/phr361/Documents/Coding/AmigoAcids-bits-to-binders-2024/AlphaPulldown/RosettaRelax/ @/Users/phr361/Documents/Coding/RosettaFiles/rosetta_relax/02_scripts/relax.flags\n",
      "basic.random.init_random_generator: 'RNG device' seed mode, using '/dev/urandom', seed=-1772460212 seed_offset=0 real_seed=-1772460212\n",
      "basic.random.init_random_generator: RandomGenerator:init: Normal mode, seed=-1772460212 RG_type=mt19937\n",
      "core.init: Resolved executable path: /Users/phr361/rosetta_bin_mac_2021.16.61629_bundle/main/source/bin/relax.static.macosclangrelease\n",
      "core.init: Looking for database based on location of executable: /Users/phr361/rosetta_bin_mac_2021.16.61629_bundle/main/database/\n",
      "core.scoring.ScoreFunctionFactory: SCOREFUNCTION: ref2015\n",
      "core.scoring.etable: Starting energy table calculation\n",
      "core.scoring.etable: smooth_etable: changing atr/rep split to bottom of energy well\n",
      "core.scoring.etable: smooth_etable: spline smoothing lj etables (maxdis = 6)\n",
      "core.scoring.etable: smooth_etable: spline smoothing solvation etables (max_dis = 6)\n",
      "core.scoring.etable: Finished calculating energy tables.\n",
      "basic.io.database: Database file opened: scoring/score_functions/hbonds/ref2015_params/HBPoly1D.csv\n",
      "basic.io.database: Database file opened: scoring/score_functions/hbonds/ref2015_params/HBFadeIntervals.csv\n",
      "basic.io.database: Database file opened: scoring/score_functions/hbonds/ref2015_params/HBEval.csv\n",
      "basic.io.database: Database file opened: scoring/score_functions/hbonds/ref2015_params/DonStrength.csv\n",
      "basic.io.database: Database file opened: scoring/score_functions/hbonds/ref2015_params/AccStrength.csv\n",
      "core.chemical.GlobalResidueTypeSet: Finished initializing fa_standard residue type set.  Created 984 residue types\n",
      "core.chemical.GlobalResidueTypeSet: Total time to initialize 1.74689 seconds.\n",
      "basic.io.database: Database file opened: scoring/score_functions/rama/fd/all.ramaProb\n",
      "basic.io.database: Database file opened: scoring/score_functions/rama/fd/prepro.ramaProb\n",
      "basic.io.database: Database file opened: scoring/score_functions/omega/omega_ppdep.all.txt\n",
      "basic.io.database: Database file opened: scoring/score_functions/omega/omega_ppdep.gly.txt\n",
      "basic.io.database: Database file opened: scoring/score_functions/omega/omega_ppdep.pro.txt\n",
      "basic.io.database: Database file opened: scoring/score_functions/omega/omega_ppdep.valile.txt\n",
      "basic.io.database: Database file opened: scoring/score_functions/P_AA_pp/P_AA\n",
      "basic.io.database: Database file opened: scoring/score_functions/P_AA_pp/P_AA_n\n",
      "core.scoring.P_AA: shapovalov_lib::shap_p_aa_pp_smooth_level of 1( aka low_smooth ) got activated.\n",
      "basic.io.database: Database file opened: scoring/score_functions/P_AA_pp/shapovalov/10deg/kappa131/a20.prop\n",
      "protocols.relax.RelaxScriptManager: Reading relax scripts list from database.\n",
      "protocols.relax.RelaxScriptManager: Looking for MonomerRelax2019.txt\n",
      "protocols.relax.RelaxScriptManager: ================== Reading script file: /Users/phr361/rosetta_bin_mac_2021.16.61629_bundle/main/database/sampling/relax_scripts/MonomerRelax2019.txt ==================\n",
      "protocols.relax.RelaxScriptManager: repeat %%nrepeats%%\n",
      "protocols.relax.RelaxScriptManager: coord_cst_weight 1.0\n",
      "protocols.relax.RelaxScriptManager: scale:fa_rep 0.040\n",
      "protocols.relax.RelaxScriptManager: repack\n",
      "protocols.relax.RelaxScriptManager: scale:fa_rep 0.051\n",
      "protocols.relax.RelaxScriptManager: min 0.01\n",
      "protocols.relax.RelaxScriptManager: coord_cst_weight 0.5\n",
      "protocols.relax.RelaxScriptManager: scale:fa_rep 0.265\n",
      "protocols.relax.RelaxScriptManager: repack\n",
      "protocols.relax.RelaxScriptManager: scale:fa_rep 0.280\n",
      "protocols.relax.RelaxScriptManager: min 0.01\n",
      "protocols.relax.RelaxScriptManager: coord_cst_weight 0.0\n",
      "protocols.relax.RelaxScriptManager: scale:fa_rep 0.559\n",
      "protocols.relax.RelaxScriptManager: repack\n",
      "protocols.relax.RelaxScriptManager: scale:fa_rep 0.581\n",
      "protocols.relax.RelaxScriptManager: min 0.01\n",
      "protocols.relax.RelaxScriptManager: coord_cst_weight 0.0\n",
      "protocols.relax.RelaxScriptManager: scale:fa_rep 1\n",
      "protocols.relax.RelaxScriptManager: repack\n",
      "protocols.relax.RelaxScriptManager: min 0.00001\n",
      "protocols.relax.RelaxScriptManager: accept_to_best\n",
      "protocols.relax.RelaxScriptManager: endrepeat\n",
      "protocols.jd2.PDBJobInputter: Instantiate PDBJobInputter\n",
      "protocols.jd2.PDBJobInputter: PDBJobInputter::fill_jobs\n",
      "protocols.jd2.PDBJobInputter: pushed /Users/phr361/Documents/Coding/AmigoAcids-bits-to-binders-2024/AlphaPulldown/top_round1/67_ranked_0.pdb nstruct index 1\n",
      "protocols.evaluation.ChiWellRmsdEvaluatorCreator: Evaluation Creator active ... \n",
      "protocols.jd2.PDBJobInputter: PDBJobInputter::pose_from_job\n",
      "protocols.jd2.PDBJobInputter: filling pose from PDB /Users/phr361/Documents/Coding/AmigoAcids-bits-to-binders-2024/AlphaPulldown/top_round1/67_ranked_0.pdb\n",
      "core.import_pose.import_pose: File '/Users/phr361/Documents/Coding/AmigoAcids-bits-to-binders-2024/AlphaPulldown/top_round1/67_ranked_0.pdb' automatically determined to be of type PDB\n",
      "core.conformation.Conformation: [ WARNING ] missing heavyatom:  OXT on residue CYS:CtermProteinFull 179\n",
      "core.conformation.Conformation: [ WARNING ] missing heavyatom:  OXT on residue ALA:CtermProteinFull 259\n",
      "core.conformation.Conformation: Found disulfide between residues 126 142\n",
      "core.conformation.Conformation: current variant for 126 CYS\n",
      "core.conformation.Conformation: current variant for 142 CYS\n",
      "core.conformation.Conformation: current variant for 126 CYD\n",
      "core.conformation.Conformation: current variant for 142 CYD\n",
      "basic.io.database: Database file opened: scoring/score_functions/elec_cp_reps.dat\n",
      "core.scoring.elec.util: Read 40 countpair representative atoms\n",
      "core.pack.dunbrack.RotamerLibrary: shapovalov_lib_fixes_enable option is true.\n",
      "core.pack.dunbrack.RotamerLibrary: shapovalov_lib::shap_dun10_smooth_level of 1( aka lowest_smooth ) got activated.\n",
      "core.pack.dunbrack.RotamerLibrary: Binary rotamer library selected: /Users/phr361/rosetta_bin_mac_2021.16.61629_bundle/main/database/rotamer/shapovalov/StpDwn_0-0-0/Dunbrack10.lib.bin\n",
      "core.pack.dunbrack.RotamerLibrary: Using Dunbrack library binary file '/Users/phr361/rosetta_bin_mac_2021.16.61629_bundle/main/database/rotamer/shapovalov/StpDwn_0-0-0/Dunbrack10.lib.bin'.\n",
      "core.pack.dunbrack.RotamerLibrary: Dunbrack 2010 library took 0.146239 seconds to load from binary\n",
      "protocols.relax.FastRelax: CMD: repeat  2488.67  0  0  0.55\n",
      "protocols.relax.FastRelax: CMD: coord_cst_weight  2488.67  0  0  0.55\n",
      "protocols.relax.FastRelax: CMD: scale:fa_rep  -369.528  0  0  0.022\n",
      "core.pack.task: Packer task: initialize from command line() \n",
      "core.pack.pack_rotamers: built 3709 rotamers at 260 positions.\n",
      "core.pack.interaction_graph.interaction_graph_factory: Instantiating DensePDInteractionGraph\n",
      "protocols.relax.FastRelax: CMD: repack  -722.317  0  0  0.022\n",
      "protocols.relax.FastRelax: CMD: scale:fa_rep  -704.132  0  0  0.02805\n",
      "protocols.relax.FastRelax: CMD: min  -937.161  0.300785  0.300785  0.02805\n",
      "protocols.relax.FastRelax: CMD: coord_cst_weight  -958.691  0.300785  0.300785  0.02805\n",
      "protocols.relax.FastRelax: CMD: scale:fa_rep  -735.924  0.300785  0.300785  0.14575\n",
      "core.pack.task: Packer task: initialize from command line() \n",
      "core.pack.pack_rotamers: built 3268 rotamers at 260 positions.\n",
      "core.pack.interaction_graph.interaction_graph_factory: Instantiating DensePDInteractionGraph\n",
      "protocols.relax.FastRelax: CMD: repack  -764.698  0.300785  0.300785  0.14575\n",
      "protocols.relax.FastRelax: CMD: scale:fa_rep  -752.176  0.300785  0.300785  0.154\n",
      "protocols.relax.FastRelax: CMD: min  -856.94  0.32519  0.32519  0.154\n",
      "protocols.relax.FastRelax: CMD: coord_cst_weight  -883.08  0.32519  0.32519  0.154\n",
      "protocols.relax.FastRelax: CMD: scale:fa_rep  -779.16  0.32519  0.32519  0.30745\n",
      "core.pack.task: Packer task: initialize from command line() \n",
      "core.pack.pack_rotamers: built 3201 rotamers at 260 positions.\n",
      "core.pack.interaction_graph.interaction_graph_factory: Instantiating DensePDInteractionGraph\n",
      "protocols.relax.FastRelax: CMD: repack  -778.12  0.32519  0.32519  0.30745\n",
      "protocols.relax.FastRelax: CMD: scale:fa_rep  -770.007  0.32519  0.32519  0.31955\n",
      "protocols.relax.FastRelax: CMD: min  -799.297  0.675758  0.675758  0.31955\n",
      "protocols.relax.FastRelax: CMD: coord_cst_weight  -799.297  0.675758  0.675758  0.31955\n",
      "protocols.relax.FastRelax: CMD: scale:fa_rep  -690.852  0.675758  0.675758  0.55\n",
      "core.pack.task: Packer task: initialize from command line() \n",
      "core.pack.pack_rotamers: built 3160 rotamers at 260 positions.\n",
      "core.pack.interaction_graph.interaction_graph_factory: Instantiating DensePDInteractionGraph\n",
      "protocols.relax.FastRelax: CMD: repack  -691.469  0.675758  0.675758  0.55\n",
      "protocols.relax.FastRelax: CMD: min  -725.103  0.973561  0.973561  0.55\n",
      "protocols.relax.FastRelax: MRP: 0  -725.103  -725.103  0.973561  0.973561  \n",
      "protocols.relax.FastRelax: CMD: accept_to_best  -725.103  0.973561  0.973561  0.55\n",
      "protocols.relax.FastRelax: CMD: endrepeat  -725.103  0.973561  0.973561  0.55\n",
      "protocols.relax.FastRelax: CMD: coord_cst_weight  782.722  0.973561  0.973561  0.55\n",
      "protocols.relax.FastRelax: CMD: scale:fa_rep  609.396  0.973561  0.973561  0.022\n",
      "core.pack.task: Packer task: initialize from command line() \n",
      "core.pack.pack_rotamers: built 3488 rotamers at 260 positions.\n",
      "core.pack.interaction_graph.interaction_graph_factory: Instantiating DensePDInteractionGraph\n",
      "protocols.relax.FastRelax: CMD: repack  585.307  0.973561  0.973561  0.022\n",
      "protocols.relax.FastRelax: CMD: scale:fa_rep  590.956  0.973561  0.973561  0.02805\n",
      "protocols.relax.FastRelax: CMD: min  -966.587  0.323018  0.323018  0.02805\n",
      "protocols.relax.FastRelax: CMD: coord_cst_weight  -992.01  0.323018  0.323018  0.02805\n",
      "protocols.relax.FastRelax: CMD: scale:fa_rep  -779.441  0.323018  0.323018  0.14575\n",
      "core.pack.task: Packer task: initialize from command line() \n",
      "core.pack.pack_rotamers: built 3231 rotamers at 260 positions.\n",
      "core.pack.interaction_graph.interaction_graph_factory: Instantiating DensePDInteractionGraph\n",
      "protocols.relax.FastRelax: CMD: repack  -791.806  0.323018  0.323018  0.14575\n",
      "protocols.relax.FastRelax: CMD: scale:fa_rep  -778.899  0.323018  0.323018  0.154\n",
      "protocols.relax.FastRelax: CMD: min  -865.446  0.327514  0.327514  0.154\n",
      "protocols.relax.FastRelax: CMD: coord_cst_weight  -892.375  0.327514  0.327514  0.154\n",
      "protocols.relax.FastRelax: CMD: scale:fa_rep  -788.564  0.327514  0.327514  0.30745\n",
      "core.pack.task: Packer task: initialize from command line() \n",
      "core.pack.pack_rotamers: built 3187 rotamers at 260 positions.\n",
      "core.pack.interaction_graph.interaction_graph_factory: Instantiating DensePDInteractionGraph\n",
      "protocols.relax.FastRelax: CMD: repack  -789.374  0.327514  0.327514  0.30745\n",
      "protocols.relax.FastRelax: CMD: scale:fa_rep  -781.248  0.327514  0.327514  0.31955\n",
      "protocols.relax.FastRelax: CMD: min  -815.101  0.979844  0.979844  0.31955\n",
      "protocols.relax.FastRelax: CMD: coord_cst_weight  -815.101  0.979844  0.979844  0.31955\n",
      "protocols.relax.FastRelax: CMD: scale:fa_rep  -706.56  0.979844  0.979844  0.55\n",
      "core.pack.task: Packer task: initialize from command line() \n",
      "core.pack.pack_rotamers: built 3131 rotamers at 260 positions.\n",
      "core.pack.interaction_graph.interaction_graph_factory: Instantiating DensePDInteractionGraph\n",
      "protocols.relax.FastRelax: CMD: repack  -706.617  0.979844  0.979844  0.55\n",
      "protocols.relax.FastRelax: CMD: min  -724.903  0.931708  0.931708  0.55\n",
      "protocols.relax.FastRelax: MRP: 1  -724.903  -725.103  0.973561  0.973561  \n",
      "protocols.relax.FastRelax: CMD: accept_to_best  -724.903  0.931708  0.931708  0.55\n",
      "protocols.relax.FastRelax: CMD: endrepeat  -724.903  0.931708  0.931708  0.55\n",
      "protocols.relax.FastRelax: CMD: coord_cst_weight  135.815  0.931708  0.931708  0.55\n",
      "protocols.relax.FastRelax: CMD: scale:fa_rep  -42.5767  0.931708  0.931708  0.022\n",
      "core.pack.task: Packer task: initialize from command line() \n",
      "core.pack.pack_rotamers: built 3472 rotamers at 260 positions.\n",
      "core.pack.interaction_graph.interaction_graph_factory: Instantiating DensePDInteractionGraph\n",
      "protocols.relax.FastRelax: CMD: repack  -60.0693  0.931708  0.931708  0.022\n",
      "protocols.relax.FastRelax: CMD: scale:fa_rep  -54.2887  0.931708  0.931708  0.02805\n",
      "protocols.relax.FastRelax: CMD: min  -966.108  0.326235  0.326235  0.02805\n",
      "protocols.relax.FastRelax: CMD: coord_cst_weight  -992.039  0.326235  0.326235  0.02805\n",
      "protocols.relax.FastRelax: CMD: scale:fa_rep  -778.089  0.326235  0.326235  0.14575\n",
      "core.pack.task: Packer task: initialize from command line() \n",
      "core.pack.pack_rotamers: built 3240 rotamers at 260 positions.\n",
      "core.pack.interaction_graph.interaction_graph_factory: Instantiating DensePDInteractionGraph\n",
      "protocols.relax.FastRelax: CMD: repack  -792.026  0.326235  0.326235  0.14575\n",
      "protocols.relax.FastRelax: CMD: scale:fa_rep  -779.068  0.326235  0.326235  0.154\n",
      "protocols.relax.FastRelax: CMD: min  -865.173  0.329538  0.329538  0.154\n",
      "protocols.relax.FastRelax: CMD: coord_cst_weight  -892.468  0.329538  0.329538  0.154\n",
      "protocols.relax.FastRelax: CMD: scale:fa_rep  -789.228  0.329538  0.329538  0.30745\n",
      "core.pack.task: Packer task: initialize from command line() \n",
      "core.pack.pack_rotamers: built 3223 rotamers at 260 positions.\n",
      "core.pack.interaction_graph.interaction_graph_factory: Instantiating DensePDInteractionGraph\n",
      "protocols.relax.FastRelax: CMD: repack  -789.986  0.329538  0.329538  0.30745\n",
      "protocols.relax.FastRelax: CMD: scale:fa_rep  -781.923  0.329538  0.329538  0.31955\n",
      "protocols.relax.FastRelax: CMD: min  -814.284  0.828051  0.828051  0.31955\n",
      "protocols.relax.FastRelax: CMD: coord_cst_weight  -814.284  0.828051  0.828051  0.31955\n",
      "protocols.relax.FastRelax: CMD: scale:fa_rep  -706.02  0.828051  0.828051  0.55\n",
      "core.pack.task: Packer task: initialize from command line() \n",
      "core.pack.pack_rotamers: built 3170 rotamers at 260 positions.\n",
      "core.pack.interaction_graph.interaction_graph_factory: Instantiating DensePDInteractionGraph\n",
      "protocols.relax.FastRelax: CMD: repack  -706.362  0.828051  0.828051  0.55\n",
      "protocols.relax.FastRelax: CMD: min  -731.613  0.955328  0.955328  0.55\n",
      "protocols.relax.FastRelax: MRP: 2  -731.613  -731.613  0.955328  0.955328  \n",
      "protocols.relax.FastRelax: CMD: accept_to_best  -731.613  0.955328  0.955328  0.55\n",
      "protocols.relax.FastRelax: CMD: endrepeat  -731.613  0.955328  0.955328  0.55\n",
      "protocols.relax.FastRelax: CMD: coord_cst_weight  715.192  0.955328  0.955328  0.55\n",
      "protocols.relax.FastRelax: CMD: scale:fa_rep  540.825  0.955328  0.955328  0.022\n",
      "core.pack.task: Packer task: initialize from command line() \n",
      "core.pack.pack_rotamers: built 3490 rotamers at 260 positions.\n",
      "core.pack.interaction_graph.interaction_graph_factory: Instantiating DensePDInteractionGraph\n",
      "protocols.relax.FastRelax: CMD: repack  525.395  0.955328  0.955328  0.022\n",
      "protocols.relax.FastRelax: CMD: scale:fa_rep  531.745  0.955328  0.955328  0.02805\n",
      "protocols.relax.FastRelax: CMD: min  -966.644  0.328031  0.328031  0.02805\n",
      "protocols.relax.FastRelax: CMD: coord_cst_weight  -992.534  0.328031  0.328031  0.02805\n",
      "protocols.relax.FastRelax: CMD: scale:fa_rep  -780.046  0.328031  0.328031  0.14575\n",
      "core.pack.task: Packer task: initialize from command line() \n",
      "core.pack.pack_rotamers: built 3216 rotamers at 260 positions.\n",
      "core.pack.interaction_graph.interaction_graph_factory: Instantiating DensePDInteractionGraph\n",
      "protocols.relax.FastRelax: CMD: repack  -793.38  0.328031  0.328031  0.14575\n",
      "protocols.relax.FastRelax: CMD: scale:fa_rep  -780.402  0.328031  0.328031  0.154\n",
      "protocols.relax.FastRelax: CMD: min  -866.096  0.326687  0.326687  0.154\n",
      "protocols.relax.FastRelax: CMD: coord_cst_weight  -892.817  0.326687  0.326687  0.154\n",
      "protocols.relax.FastRelax: CMD: scale:fa_rep  -788.55  0.326687  0.326687  0.30745\n",
      "core.pack.task: Packer task: initialize from command line() \n",
      "core.pack.pack_rotamers: built 3235 rotamers at 260 positions.\n",
      "core.pack.interaction_graph.interaction_graph_factory: Instantiating DensePDInteractionGraph\n",
      "protocols.relax.FastRelax: CMD: repack  -788.895  0.326687  0.326687  0.30745\n"
     ]
    },
    {
     "name": "stdout",
     "output_type": "stream",
     "text": [
      "protocols.relax.FastRelax: CMD: scale:fa_rep  -780.762  0.326687  0.326687  0.31955\n",
      "protocols.relax.FastRelax: CMD: min  -814.559  0.832315  0.832315  0.31955\n",
      "protocols.relax.FastRelax: CMD: coord_cst_weight  -814.559  0.832315  0.832315  0.31955\n",
      "protocols.relax.FastRelax: CMD: scale:fa_rep  -706.75  0.832315  0.832315  0.55\n",
      "core.pack.task: Packer task: initialize from command line() \n",
      "core.pack.pack_rotamers: built 3166 rotamers at 260 positions.\n",
      "core.pack.interaction_graph.interaction_graph_factory: Instantiating DensePDInteractionGraph\n",
      "protocols.relax.FastRelax: CMD: repack  -707.26  0.832315  0.832315  0.55\n",
      "protocols.relax.FastRelax: CMD: min  -729.648  0.881494  0.881494  0.55\n",
      "protocols.relax.FastRelax: MRP: 3  -729.648  -731.613  0.955328  0.955328  \n",
      "protocols.relax.FastRelax: CMD: accept_to_best  -729.648  0.881494  0.881494  0.55\n",
      "protocols.relax.FastRelax: CMD: endrepeat  -729.648  0.881494  0.881494  0.55\n",
      "protocols.relax.FastRelax: CMD: coord_cst_weight  207.354  0.881494  0.881494  0.55\n",
      "protocols.relax.FastRelax: CMD: scale:fa_rep  31.2725  0.881494  0.881494  0.022\n",
      "core.pack.task: Packer task: initialize from command line() \n",
      "core.pack.pack_rotamers: built 3497 rotamers at 260 positions.\n",
      "core.pack.interaction_graph.interaction_graph_factory: Instantiating DensePDInteractionGraph\n",
      "protocols.relax.FastRelax: CMD: repack  16.4433  0.881494  0.881494  0.022\n",
      "protocols.relax.FastRelax: CMD: scale:fa_rep  23.0637  0.881494  0.881494  0.02805\n",
      "protocols.relax.FastRelax: CMD: min  -969.299  0.325698  0.325698  0.02805\n",
      "protocols.relax.FastRelax: CMD: coord_cst_weight  -995.068  0.325698  0.325698  0.02805\n",
      "protocols.relax.FastRelax: CMD: scale:fa_rep  -784.995  0.325698  0.325698  0.14575\n",
      "core.pack.task: Packer task: initialize from command line() \n",
      "core.pack.pack_rotamers: built 3235 rotamers at 260 positions.\n",
      "core.pack.interaction_graph.interaction_graph_factory: Instantiating DensePDInteractionGraph\n",
      "protocols.relax.FastRelax: CMD: repack  -797.916  0.325698  0.325698  0.14575\n",
      "protocols.relax.FastRelax: CMD: scale:fa_rep  -785.264  0.325698  0.325698  0.154\n",
      "protocols.relax.FastRelax: CMD: min  -866.211  0.325623  0.325623  0.154\n",
      "protocols.relax.FastRelax: CMD: coord_cst_weight  -892.913  0.325623  0.325623  0.154\n",
      "protocols.relax.FastRelax: CMD: scale:fa_rep  -789.846  0.325623  0.325623  0.30745\n",
      "core.pack.task: Packer task: initialize from command line() \n",
      "core.pack.pack_rotamers: built 3210 rotamers at 260 positions.\n",
      "core.pack.interaction_graph.interaction_graph_factory: Instantiating DensePDInteractionGraph\n",
      "protocols.relax.FastRelax: CMD: repack  -790.112  0.325623  0.325623  0.30745\n",
      "protocols.relax.FastRelax: CMD: scale:fa_rep  -782.024  0.325623  0.325623  0.31955\n",
      "protocols.relax.FastRelax: CMD: min  -816.524  0.830902  0.830902  0.31955\n",
      "protocols.relax.FastRelax: CMD: coord_cst_weight  -816.524  0.830902  0.830902  0.31955\n",
      "protocols.relax.FastRelax: CMD: scale:fa_rep  -709.171  0.830902  0.830902  0.55\n",
      "core.pack.task: Packer task: initialize from command line() \n",
      "core.pack.pack_rotamers: built 3162 rotamers at 260 positions.\n",
      "core.pack.interaction_graph.interaction_graph_factory: Instantiating DensePDInteractionGraph\n",
      "protocols.relax.FastRelax: CMD: repack  -709.238  0.830902  0.830902  0.55\n",
      "protocols.relax.FastRelax: CMD: min  -731.229  0.861957  0.861957  0.55\n",
      "protocols.relax.FastRelax: MRP: 4  -731.229  -731.613  0.955328  0.955328  \n",
      "protocols.relax.FastRelax: CMD: accept_to_best  -731.229  0.861957  0.861957  0.55\n",
      "protocols.relax.FastRelax: CMD: endrepeat  -731.229  0.861957  0.861957  0.55\n",
      "protocols::checkpoint: Deleting checkpoints of FastRelax\n",
      "protocols.jd2.JobDistributor: relax_67_ranked_0_0001 reported success in 122 seconds\n",
      "protocols.jd2.JobDistributor: no more batches to process... \n",
      "protocols.jd2.JobDistributor: 1 jobs considered, 1 jobs attempted in 122 seconds\n",
      "basic.citation_manager.CitationManager: \n",
      "The following Rosetta modules were used during this run of Rosetta, and should be cited:\n",
      "\n",
      "FastRelax Mover's citation(s):\n",
      "Khatib F, Cooper S, Tyka MD, Xu K, Makedon I, Popovic Z, Baker D, and Players F.  (2011).  Algorithm discovery by protein folding game players.  Proc Natl Acad Sci USA 108(47):18949-53.  doi: 10.1073/pnas.1115898108.\n",
      "\n",
      "Maguire JB, Haddox HK, Strickland D, Halabiya SF, Coventry B, Griffin JR, Pulavarti SVSRK, Cummins M, Thieker DF, Klavins E, Szyperski T, DiMaio F, Baker D, and Kuhlman B.  (2020).  Perturbing the energy landscape for improved packing during computational protein design..  Proteins \"in press\".  doi: 10.1002/prot.26030.\n",
      "\n",
      "\n",
      "Processing file: /Users/phr361/Documents/Coding/AmigoAcids-bits-to-binders-2024/AlphaPulldown/top_round1/51_ranked_2.pdb\n",
      "/Users/phr361/rosetta_bin_mac_2021.16.61629_bundle/main/source/bin/relax.static.macosclangrelease -s /Users/phr361/Documents/Coding/AmigoAcids-bits-to-binders-2024/AlphaPulldown/top_round1/51_ranked_2.pdb -out:path:all /Users/phr361/Documents/Coding/AmigoAcids-bits-to-binders-2024/AlphaPulldown/RosettaRelax/ @/Users/phr361/Documents/Coding/RosettaFiles/rosetta_relax/02_scripts/relax.flags\n"
     ]
    }
   ],
   "source": [
    "for file in pdb_files:\n",
    "    path = os.path.join(pdb_dir,file)\n",
    "    FM_relax_utils.run_relax(pdb=path,outfile=outfile)"
   ]
  },
  {
   "cell_type": "code",
   "execution_count": null,
   "id": "30e812a9",
   "metadata": {},
   "outputs": [],
   "source": []
  }
 ],
 "metadata": {
  "kernelspec": {
   "display_name": "Python 3 (ipykernel)",
   "language": "python",
   "name": "python3"
  },
  "language_info": {
   "codemirror_mode": {
    "name": "ipython",
    "version": 3
   },
   "file_extension": ".py",
   "mimetype": "text/x-python",
   "name": "python",
   "nbconvert_exporter": "python",
   "pygments_lexer": "ipython3",
   "version": "3.11.5"
  }
 },
 "nbformat": 4,
 "nbformat_minor": 5
}
